{
 "cells": [
  {
   "cell_type": "code",
   "execution_count": null,
   "id": "15cd625d",
   "metadata": {},
   "outputs": [],
   "source": [
    "#!pip install selenium\n",
    "from selenium import webdriver\n",
    "import pandas as pd"
   ]
  },
  {
   "cell_type": "code",
   "execution_count": null,
   "id": "73e986b5",
   "metadata": {},
   "outputs": [],
   "source": [
    "from selenium.webdriver.common.by import By\n",
    "from selenium.webdriver.support.wait import WebDriverWait\n",
    "from selenium.webdriver.support import expected_conditions as EC"
   ]
  },
  {
   "cell_type": "code",
   "execution_count": null,
   "id": "2506b68f",
   "metadata": {},
   "outputs": [],
   "source": [
    "driver = webdriver.Chrome(\"/Users/pims/Desktop/projects on jupiter/set50/chromedriver.exe\")\n",
    "driver"
   ]
  },
  {
   "cell_type": "code",
   "execution_count": null,
   "id": "76d434e2",
   "metadata": {},
   "outputs": [],
   "source": [
    "# ACCEPT COOKIES\n",
    "mainurl = \"https://www.set.or.th/en/market/index/set50/overview\"\n",
    "driver.get(mainurl)\n",
    "WebDriverWait(driver, 10).until(EC.element_to_be_clickable((By.XPATH,\"//*[@id='__layout']/div/div[5]/div/div/div[2]/button\"))).click()"
   ]
  },
  {
   "cell_type": "code",
   "execution_count": null,
   "id": "fef4af8f",
   "metadata": {},
   "outputs": [],
   "source": [
    "# AFTER THAT GET MAIN'S PAGE SOURCE\n",
    "maindata = driver.page_source\n",
    "#maindata"
   ]
  },
  {
   "cell_type": "code",
   "execution_count": null,
   "id": "956c4072",
   "metadata": {
    "scrolled": true
   },
   "outputs": [],
   "source": [
    "maindf = pd.read_html(maindata)[2]\n",
    "#maindf"
   ]
  },
  {
   "cell_type": "code",
   "execution_count": null,
   "id": "3d33d761",
   "metadata": {},
   "outputs": [],
   "source": [
    "mainHeaders = []\n",
    "for h in maindf.columns:\n",
    "    h = h.replace('(Click to sort Ascending)','')\n",
    "    h = h.strip()\n",
    "    mainHeaders.append(h)"
   ]
  },
  {
   "cell_type": "code",
   "execution_count": null,
   "id": "dd988e7c",
   "metadata": {},
   "outputs": [],
   "source": [
    "# CHANGE COLUMNS NAME\n",
    "maindf.columns = mainHeaders"
   ]
  },
  {
   "cell_type": "code",
   "execution_count": null,
   "id": "3df63182",
   "metadata": {
    "scrolled": true
   },
   "outputs": [],
   "source": [
    "maindf"
   ]
  },
  {
   "cell_type": "code",
   "execution_count": null,
   "id": "47b7f240",
   "metadata": {
    "scrolled": true
   },
   "outputs": [],
   "source": [
    "# GET ALL SYMBOLS\n",
    "# REMOVE ALL TAGS\n",
    "SymbolList = []\n",
    "for name in maindf[\"Symbol\"]:\n",
    "    allname = name.split()\n",
    "    SymbolList.append(allname[0])\n",
    "\n",
    "#SymbolList"
   ]
  },
  {
   "cell_type": "code",
   "execution_count": null,
   "id": "5b94f27b",
   "metadata": {},
   "outputs": [],
   "source": [
    "len(SymbolList)"
   ]
  },
  {
   "cell_type": "code",
   "execution_count": null,
   "id": "ec8e17b2",
   "metadata": {},
   "outputs": [],
   "source": [
    "## ไม่ต้องรัน\n",
    "## url เอาไว้ลองทำ\n",
    "urlfinance = 'https://www.set.or.th/en/market/product/stock/quote/CPN/financial-statement/company-highlights'\n",
    "urlprice = 'https://www.set.or.th/en/market/product/stock/quote/ADVANC/historical-trading'\n",
    "urlmain = 'https://www.set.or.th/en/market/product/stock/quote/ADVANC/price'"
   ]
  },
  {
   "cell_type": "code",
   "execution_count": null,
   "id": "cdcc54c4",
   "metadata": {},
   "outputs": [],
   "source": [
    "## ไม่ต้องรัน\n",
    "# TEST 1 ตัว ใน MAIN เอา FULLNAME\n",
    "suburl = urlmain\n",
    "driver.get(suburl)\n",
    "\n",
    "#subdata = driver.find_element(By.XPATH,\n",
    "                                      #\"//div[@class='quote-header']\" +\n",
    "                                      #\"//div[@class='site-container title-font-family position-relative']\"+\n",
    "                                      #\"//div[@class='quote-info d-flex flex-column']\"+\n",
    "                                      #\"//div[@class='d-block d-md-none fs-24px']\")\n",
    "#subdata = driver.find_element(By.XPATH,\"//div[@class='quote-header']//div//div//div[@class='d-block d-md-none fs-24px']\")\n",
    "subdata = driver.find_element(By.XPATH,'//*[@id=\"__layout\"]/div/div[2]/div[1]/div[5]/div[2]/div[2]/div[1]')\n",
    "subdata.text"
   ]
  },
  {
   "cell_type": "code",
   "execution_count": null,
   "id": "72090f29",
   "metadata": {},
   "outputs": [],
   "source": [
    "# ALL I NEED IN MAIN\n",
    "\n",
    "fullNameList = []\n",
    "groupList = []\n",
    "fullGroupNameList = []\n",
    "symbolList = []\n",
    "for i in SymbolList:\n",
    "    \n",
    "    try:\n",
    "        suburl = \"https://www.set.or.th/en/market/product/stock/quote/\" + i + \"/price\"\n",
    "        driver.get(suburl)\n",
    "        \n",
    "        subFullName = driver.find_element(By.XPATH,'//*[@id=\"__layout\"]/div/div[2]/div[1]/div[5]/div[2]/div[2]/div[1]')\n",
    "        subGroup = driver.find_element(By.XPATH,'//*[@id=\"stock-quote-tab-pane-1\"]/div/div[1]/div/div[2]/div[2]/div/div/div[1]/h4')\n",
    "        subFullGroupName = driver.find_element(By.XPATH,'//*[@id=\"stock-quote-tab-pane-1\"]/div/div[1]/div/div[2]/div[2]/div/div/div[1]/span')\n",
    "    \n",
    "        fullNameList.append(subFullName.text)\n",
    "        groupList.append(subGroup.text)\n",
    "        fullGroupNameList.append(subFullGroupName.text)\n",
    "        \n",
    "        symbolList.append(i)\n",
    "        \n",
    "    except:\n",
    "        pass"
   ]
  },
  {
   "cell_type": "code",
   "execution_count": null,
   "id": "9261a439",
   "metadata": {},
   "outputs": [],
   "source": [
    "Info = pd.DataFrame(\n",
    "    {'Symbol': symbolList,\n",
    "     'FullName': fullNameList,\n",
    "     'Group': groupList,\n",
    "     'FullGroupName' : fullGroupNameList\n",
    "    })"
   ]
  },
  {
   "cell_type": "code",
   "execution_count": null,
   "id": "6e08c114",
   "metadata": {},
   "outputs": [],
   "source": [
    "Info"
   ]
  },
  {
   "cell_type": "code",
   "execution_count": null,
   "id": "715166d2",
   "metadata": {},
   "outputs": [],
   "source": [
    "# ไม่ต้องรัน\n",
    "# วันที่วันนี้\n",
    "\n",
    "from datetime import date\n",
    "today = date.today()\n",
    "d1 = today.strftime(\"%Y-%m-%d\")\n",
    "d1"
   ]
  },
  {
   "cell_type": "code",
   "execution_count": null,
   "id": "ef88c628",
   "metadata": {},
   "outputs": [],
   "source": [
    "# ADVANCE - price(select test)\n",
    "\n",
    "\n",
    "#driver.implicitly_wait(10)\n",
    "#driver.maximize_window()\n",
    "\n",
    "#driver.get(urlprice)\n",
    "#arrow = driver.find_element(By.CSS_SELECTOR,\"#price-historical-stock > div.d-flex.flex-column.align-items-center.d-lg-none > div.set-pagination.d-flex.flex-column.flex-md-row.align-items-center > div.d-flex.align-items-center.d-md-none > div.input-select.sm.default-font-family.bg-transparent.mx-3 > div > div.multiselect__content-wrapper\")\n",
    "#arrow.click()\n",
    "#driver.execute_script(\"arguments[4].click();\", arrow);\n",
    "#arrow.click()\n",
    "#selectno = driver.find_element(By.XPATH,'//*[@id=\"price-historical-stock\"]/div[4]/div[1]/div[2]/div[1]/div/div[1]')\n",
    "#element = WebDriverWait(driver, 20).until(\n",
    "        #EC.presence_of_element_located((By.CLASS_NAME, 'multiselect__content-wrapper')))\n",
    "\n",
    "\n",
    "#element.click()\n",
    "#element.find_element(By.CLASS_NAME,'multiselect__option').click()\n",
    "#advancepricep1 = driver.page_source\n",
    "#pd.read_html(advancepricep1)[1]"
   ]
  },
  {
   "cell_type": "code",
   "execution_count": null,
   "id": "24a0a9f3",
   "metadata": {},
   "outputs": [],
   "source": [
    "\n",
    "#driver.get(urlprice)\n",
    "#advancepricep1 = driver.page_source\n",
    "#pd.read_html(advancepricep1)[1]\n",
    "#element = WebDriverWait(driver, 5).until(EC.visibility_of_element_located((By.XPATH, \"//*[aria-label='讚']\")))\n",
    "    #element.click()\n",
    "#p2 = driver.find_element(By.XPATH,\"//div[@class='d-sm-block']/li[@class='page-item active']//button[text()='2']\")\n",
    "#p2.click()\n",
    "\n",
    "#driver.find_element(By.XPATH, \"//button[@class='nav-option nav-option--main']/div[@class='section-title']//div[text()='Production']\").click()"
   ]
  },
  {
   "cell_type": "code",
   "execution_count": null,
   "id": "a9614ab4",
   "metadata": {},
   "outputs": [],
   "source": [
    "pricedf = pd.DataFrame()\n",
    "\n",
    "for i in SymbolList:\n",
    "    \n",
    "    suburl = \"https://www.set.or.th/en/market/product/stock/quote/\"+ i + \"/historical-trading\"\n",
    "    driver.get(suburl)\n",
    "    subprice = driver.page_source\n",
    "        \n",
    "    subpricedf = pd.read_html(subprice)[1]\n",
    "    subpricedf['Symbol'] = i\n",
    "        \n",
    "    pricedf = pricedf.append(subpricedf)"
   ]
  },
  {
   "cell_type": "code",
   "execution_count": null,
   "id": "7b42b9a6",
   "metadata": {
    "scrolled": true
   },
   "outputs": [],
   "source": [
    "pricedf"
   ]
  },
  {
   "cell_type": "code",
   "execution_count": null,
   "id": "89bdc68d",
   "metadata": {},
   "outputs": [],
   "source": [
    "priceHeaders = []\n",
    "for h in pricedf.columns:\n",
    "    h = h.replace('(Click to sort Ascending)','')\n",
    "    h = h.strip()\n",
    "    priceHeaders.append(h)"
   ]
  },
  {
   "cell_type": "code",
   "execution_count": null,
   "id": "e45284c0",
   "metadata": {},
   "outputs": [],
   "source": [
    "pricedf.columns = priceHeaders"
   ]
  },
  {
   "cell_type": "code",
   "execution_count": null,
   "id": "f8e9f6d7",
   "metadata": {},
   "outputs": [],
   "source": [
    "pricedf"
   ]
  },
  {
   "cell_type": "code",
   "execution_count": null,
   "id": "92315035",
   "metadata": {},
   "outputs": [],
   "source": []
  },
  {
   "cell_type": "code",
   "execution_count": null,
   "id": "18eb1594",
   "metadata": {
    "scrolled": true
   },
   "outputs": [],
   "source": [
    "#FINANCIAL STATEMENT\n",
    "driver.get(urlfinance)\n",
    "\n",
    "advancefinance = driver.page_source\n",
    "#advancefinance"
   ]
  },
  {
   "cell_type": "code",
   "execution_count": null,
   "id": "243e0a91",
   "metadata": {},
   "outputs": [],
   "source": [
    "finst = pd.read_html(advancefinance)[0]\n",
    "finst"
   ]
  },
  {
   "cell_type": "code",
   "execution_count": null,
   "id": "abfafb51",
   "metadata": {},
   "outputs": [],
   "source": [
    "finst.drop(finst[finst['Period as of'] == 'Financial Data'].index\n",
    "           ,inplace=True)\n",
    "finst.drop(finst[finst['Period as of'] == 'Financial Ratio'].index\n",
    "           ,inplace=True)"
   ]
  },
  {
   "cell_type": "code",
   "execution_count": null,
   "id": "4ac8d625",
   "metadata": {},
   "outputs": [],
   "source": [
    "finst = finst.reset_index(drop=True)"
   ]
  },
  {
   "cell_type": "code",
   "execution_count": null,
   "id": "cd2b0a12",
   "metadata": {},
   "outputs": [],
   "source": [
    "finst"
   ]
  },
  {
   "cell_type": "code",
   "execution_count": null,
   "id": "eeebc46c",
   "metadata": {
    "scrolled": true
   },
   "outputs": [],
   "source": [
    "finst2 = pd.read_html(advancefinance)[1]\n",
    "finst2"
   ]
  },
  {
   "cell_type": "code",
   "execution_count": null,
   "id": "db36e2fb",
   "metadata": {},
   "outputs": [],
   "source": [
    "finst2.iloc[:2]"
   ]
  },
  {
   "cell_type": "code",
   "execution_count": null,
   "id": "2b1a308c",
   "metadata": {},
   "outputs": [],
   "source": [
    "finst21 = finst2.iloc[2:]"
   ]
  },
  {
   "cell_type": "code",
   "execution_count": null,
   "id": "d988b8c4",
   "metadata": {},
   "outputs": [],
   "source": [
    "finst21 = finst21.reset_index(drop=True)"
   ]
  },
  {
   "cell_type": "code",
   "execution_count": null,
   "id": "289f33d4",
   "metadata": {},
   "outputs": [],
   "source": [
    "finst21.rename(columns=finst21.iloc[0],inplace=True)\n",
    "finst21 = finst21.drop([0])"
   ]
  },
  {
   "cell_type": "code",
   "execution_count": null,
   "id": "13648813",
   "metadata": {
    "scrolled": true
   },
   "outputs": [],
   "source": [
    "finst21"
   ]
  },
  {
   "cell_type": "code",
   "execution_count": null,
   "id": "cf011866",
   "metadata": {},
   "outputs": [],
   "source": [
    "test = ['AOT','KTC','INTUCH','JMT']"
   ]
  },
  {
   "cell_type": "code",
   "execution_count": null,
   "id": "a80605f2",
   "metadata": {},
   "outputs": [],
   "source": [
    "# FINANCIAL STATEMENT TABLE\n",
    "tab0 = pd.DataFrame()\n",
    "for i in SymbolList:\n",
    "    subtab0 = pd.DataFrame()\n",
    "    suburl = \"https://www.set.or.th/en/market/product/stock/quote/\" + i + \"/financial-statement/company-highlights\"\n",
    "    driver.get(suburl)\n",
    "    subdata = driver.page_source\n",
    "    \n",
    "    subtab0 = pd.read_html(subdata)[0]\n",
    "    subtab0['Symbol'] = i\n",
    "    \n",
    "    tab0 = tab0.append(subtab0)\n",
    "\n",
    "tab0"
   ]
  },
  {
   "cell_type": "code",
   "execution_count": null,
   "id": "6379ae07",
   "metadata": {},
   "outputs": [],
   "source": [
    "tab0.drop(tab0[tab0['Period as of'] == 'Financial Data'].index\n",
    "           ,inplace=True)\n",
    "tab0.drop(tab0[tab0['Period as of'] == 'Financial Ratio'].index\n",
    "           ,inplace=True)"
   ]
  },
  {
   "cell_type": "code",
   "execution_count": null,
   "id": "19b1568b",
   "metadata": {},
   "outputs": [],
   "source": [
    "tab0 = tab0.reset_index(drop=True)"
   ]
  },
  {
   "cell_type": "code",
   "execution_count": null,
   "id": "224be7f7",
   "metadata": {},
   "outputs": [],
   "source": [
    "tab0"
   ]
  },
  {
   "cell_type": "code",
   "execution_count": null,
   "id": "3859df79",
   "metadata": {},
   "outputs": [],
   "source": [
    "tab10 = pd.DataFrame()\n",
    "for i in SymbolList:\n",
    "    subtab1 = pd.DataFrame()\n",
    "    suburl = \"https://www.set.or.th/en/market/product/stock/quote/\" + i + \"/financial-statement/company-highlights\"\n",
    "    driver.get(suburl)\n",
    "    subdata = driver.page_source\n",
    "    \n",
    "    subtab1 = pd.read_html(subdata)[1]\n",
    "    subtab1['Symbol'] = i\n",
    "    \n",
    "    subtab10 = subtab1.iloc[:2] \n",
    "    tab10 = tab10.append(subtab10)\n",
    "   "
   ]
  },
  {
   "cell_type": "code",
   "execution_count": null,
   "id": "97dfe1fb",
   "metadata": {},
   "outputs": [],
   "source": [
    "tab10 = tab10.reset_index(drop=True)\n",
    "tab10"
   ]
  },
  {
   "cell_type": "code",
   "execution_count": null,
   "id": "74d13c64",
   "metadata": {
    "scrolled": false
   },
   "outputs": [],
   "source": [
    "tab11 = pd.DataFrame()\n",
    "\n",
    "for i in SymbolList:\n",
    "    subtab1 = pd.DataFrame()\n",
    "    suburl = \"https://www.set.or.th/en/market/product/stock/quote/\" + i + \"/financial-statement/company-highlights\"\n",
    "    driver.get(suburl)\n",
    "    subdata = driver.page_source\n",
    "    \n",
    "    subtab1 = pd.read_html(subdata)[1]\n",
    "    \n",
    "    subtab11 = subtab1.iloc[2:]\n",
    "    subtab11 = subtab11.reset_index(drop=True)\n",
    "    subtab11.rename(columns=subtab11.iloc[0],inplace=True)\n",
    "    subtab11 = subtab11.drop([0])\n",
    "\n",
    "    \n",
    "    subtab11['Symbol'] = i\n",
    "\n",
    "   \n",
    "    tab11 = tab11.append(subtab11,ignore_index=True)\n"
   ]
  },
  {
   "cell_type": "code",
   "execution_count": null,
   "id": "be7f855f",
   "metadata": {},
   "outputs": [],
   "source": [
    "tab11 "
   ]
  },
  {
   "cell_type": "code",
   "execution_count": null,
   "id": "b544b561",
   "metadata": {},
   "outputs": [],
   "source": []
  }
 ],
 "metadata": {
  "kernelspec": {
   "display_name": "Python 3 (ipykernel)",
   "language": "python",
   "name": "python3"
  },
  "language_info": {
   "codemirror_mode": {
    "name": "ipython",
    "version": 3
   },
   "file_extension": ".py",
   "mimetype": "text/x-python",
   "name": "python",
   "nbconvert_exporter": "python",
   "pygments_lexer": "ipython3",
   "version": "3.9.13"
  }
 },
 "nbformat": 4,
 "nbformat_minor": 5
}
